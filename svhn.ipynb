{
 "cells": [
  {
   "cell_type": "code",
   "execution_count": 6,
   "id": "f8348d5b",
   "metadata": {},
   "outputs": [
    {
     "name": "stdout",
     "output_type": "stream",
     "text": [
      "Requirement already satisfied: tensorflow_datasets in c:\\users\\vakas\\appdata\\local\\programs\\python\\python311\\lib\\site-packages (4.9.8)\n",
      "Requirement already satisfied: absl-py in c:\\users\\vakas\\appdata\\local\\programs\\python\\python311\\lib\\site-packages (from tensorflow_datasets) (2.2.0)\n",
      "Requirement already satisfied: dm-tree in c:\\users\\vakas\\appdata\\local\\programs\\python\\python311\\lib\\site-packages (from tensorflow_datasets) (0.1.9)\n",
      "Requirement already satisfied: etils>=1.9.1 in c:\\users\\vakas\\appdata\\local\\programs\\python\\python311\\lib\\site-packages (from etils[edc,enp,epath,epy,etree]>=1.9.1; python_version >= \"3.11\"->tensorflow_datasets) (1.12.2)\n",
      "Requirement already satisfied: immutabledict in c:\\users\\vakas\\appdata\\local\\programs\\python\\python311\\lib\\site-packages (from tensorflow_datasets) (4.2.1)\n",
      "Requirement already satisfied: numpy in c:\\users\\vakas\\appdata\\local\\programs\\python\\python311\\lib\\site-packages (from tensorflow_datasets) (2.1.1)\n",
      "Requirement already satisfied: promise in c:\\users\\vakas\\appdata\\local\\programs\\python\\python311\\lib\\site-packages (from tensorflow_datasets) (2.3)\n",
      "Requirement already satisfied: protobuf>=3.20 in c:\\users\\vakas\\appdata\\local\\programs\\python\\python311\\lib\\site-packages (from tensorflow_datasets) (5.29.4)\n",
      "Requirement already satisfied: psutil in c:\\users\\vakas\\appdata\\local\\programs\\python\\python311\\lib\\site-packages (from tensorflow_datasets) (7.0.0)\n",
      "Requirement already satisfied: pyarrow in c:\\users\\vakas\\appdata\\local\\programs\\python\\python311\\lib\\site-packages (from tensorflow_datasets) (19.0.1)\n",
      "Requirement already satisfied: requests>=2.19.0 in c:\\users\\vakas\\appdata\\local\\programs\\python\\python311\\lib\\site-packages (from tensorflow_datasets) (2.32.3)\n",
      "Requirement already satisfied: simple_parsing in c:\\users\\vakas\\appdata\\local\\programs\\python\\python311\\lib\\site-packages (from tensorflow_datasets) (0.1.7)\n",
      "Requirement already satisfied: tensorflow-metadata in c:\\users\\vakas\\appdata\\local\\programs\\python\\python311\\lib\\site-packages (from tensorflow_datasets) (1.17.1)\n",
      "Requirement already satisfied: termcolor in c:\\users\\vakas\\appdata\\local\\programs\\python\\python311\\lib\\site-packages (from tensorflow_datasets) (2.5.0)\n",
      "Requirement already satisfied: toml in c:\\users\\vakas\\appdata\\local\\programs\\python\\python311\\lib\\site-packages (from tensorflow_datasets) (0.10.2)\n",
      "Requirement already satisfied: tqdm in c:\\users\\vakas\\appdata\\local\\programs\\python\\python311\\lib\\site-packages (from tensorflow_datasets) (4.67.1)\n",
      "Requirement already satisfied: wrapt in c:\\users\\vakas\\appdata\\local\\programs\\python\\python311\\lib\\site-packages (from tensorflow_datasets) (1.17.2)\n",
      "Requirement already satisfied: einops in c:\\users\\vakas\\appdata\\local\\programs\\python\\python311\\lib\\site-packages (from etils[edc,enp,epath,epy,etree]>=1.9.1; python_version >= \"3.11\"->tensorflow_datasets) (0.8.1)\n",
      "Requirement already satisfied: fsspec in c:\\users\\vakas\\appdata\\local\\programs\\python\\python311\\lib\\site-packages (from etils[edc,enp,epath,epy,etree]>=1.9.1; python_version >= \"3.11\"->tensorflow_datasets) (2025.3.0)\n",
      "Requirement already satisfied: importlib_resources in c:\\users\\vakas\\appdata\\local\\programs\\python\\python311\\lib\\site-packages (from etils[edc,enp,epath,epy,etree]>=1.9.1; python_version >= \"3.11\"->tensorflow_datasets) (6.5.2)\n",
      "Requirement already satisfied: typing_extensions in c:\\users\\vakas\\appdata\\local\\programs\\python\\python311\\lib\\site-packages (from etils[edc,enp,epath,epy,etree]>=1.9.1; python_version >= \"3.11\"->tensorflow_datasets) (4.12.2)\n",
      "Requirement already satisfied: zipp in c:\\users\\vakas\\appdata\\local\\programs\\python\\python311\\lib\\site-packages (from etils[edc,enp,epath,epy,etree]>=1.9.1; python_version >= \"3.11\"->tensorflow_datasets) (3.21.0)\n",
      "Requirement already satisfied: charset-normalizer<4,>=2 in c:\\users\\vakas\\appdata\\local\\programs\\python\\python311\\lib\\site-packages (from requests>=2.19.0->tensorflow_datasets) (3.4.1)\n",
      "Requirement already satisfied: idna<4,>=2.5 in c:\\users\\vakas\\appdata\\local\\programs\\python\\python311\\lib\\site-packages (from requests>=2.19.0->tensorflow_datasets) (3.10)\n",
      "Requirement already satisfied: urllib3<3,>=1.21.1 in c:\\users\\vakas\\appdata\\local\\programs\\python\\python311\\lib\\site-packages (from requests>=2.19.0->tensorflow_datasets) (2.3.0)\n",
      "Requirement already satisfied: certifi>=2017.4.17 in c:\\users\\vakas\\appdata\\local\\programs\\python\\python311\\lib\\site-packages (from requests>=2.19.0->tensorflow_datasets) (2025.1.31)\n",
      "Requirement already satisfied: attrs>=18.2.0 in c:\\users\\vakas\\appdata\\local\\programs\\python\\python311\\lib\\site-packages (from dm-tree->tensorflow_datasets) (25.3.0)\n",
      "Requirement already satisfied: six in c:\\users\\vakas\\appdata\\local\\programs\\python\\python311\\lib\\site-packages (from promise->tensorflow_datasets) (1.17.0)\n",
      "Requirement already satisfied: docstring-parser<1.0,>=0.15 in c:\\users\\vakas\\appdata\\local\\programs\\python\\python311\\lib\\site-packages (from simple_parsing->tensorflow_datasets) (0.16)\n",
      "Requirement already satisfied: googleapis-common-protos<2,>=1.56.4 in c:\\users\\vakas\\appdata\\local\\programs\\python\\python311\\lib\\site-packages (from tensorflow-metadata->tensorflow_datasets) (1.70.0)\n",
      "Requirement already satisfied: colorama in c:\\users\\vakas\\appdata\\local\\programs\\python\\python311\\lib\\site-packages (from tqdm->tensorflow_datasets) (0.4.6)\n",
      "Note: you may need to restart the kernel to use updated packages.\n"
     ]
    },
    {
     "name": "stderr",
     "output_type": "stream",
     "text": [
      "\n",
      "[notice] A new release of pip is available: 24.0 -> 25.1.1\n",
      "[notice] To update, run: python.exe -m pip install --upgrade pip\n"
     ]
    }
   ],
   "source": [
    "pip install tensorflow_datasets"
   ]
  },
  {
   "cell_type": "code",
   "execution_count": 7,
   "id": "7352403e",
   "metadata": {},
   "outputs": [
    {
     "name": "stderr",
     "output_type": "stream",
     "text": [
      "WARNING:absl:Variant folder C:\\Users\\vakas\\tensorflow_datasets\\svhn_cropped\\3.1.0 has no dataset_info.json\n"
     ]
    },
    {
     "name": "stdout",
     "output_type": "stream",
     "text": [
      "\u001b[1mDownloading and preparing dataset Unknown size (download: Unknown size, generated: Unknown size, total: Unknown size) to C:\\Users\\vakas\\tensorflow_datasets\\svhn_cropped\\3.1.0...\u001b[0m\n"
     ]
    },
    {
     "data": {
      "application/vnd.jupyter.widget-view+json": {
       "model_id": "149ba8b122284896b5fbb6dd1cd77244",
       "version_major": 2,
       "version_minor": 0
      },
      "text/plain": [
       "Dl Completed...: 0 url [00:00, ? url/s]"
      ]
     },
     "metadata": {},
     "output_type": "display_data"
    },
    {
     "data": {
      "application/vnd.jupyter.widget-view+json": {
       "model_id": "c8cc22baacee457c82b531a412f0d2f0",
       "version_major": 2,
       "version_minor": 0
      },
      "text/plain": [
       "Dl Size...: 0 MiB [00:00, ? MiB/s]"
      ]
     },
     "metadata": {},
     "output_type": "display_data"
    },
    {
     "data": {
      "application/vnd.jupyter.widget-view+json": {
       "model_id": "0c52f4bc72f04827a09ceb7cb9e84f5e",
       "version_major": 2,
       "version_minor": 0
      },
      "text/plain": [
       "Generating splits...:   0%|          | 0/3 [00:00<?, ? splits/s]"
      ]
     },
     "metadata": {},
     "output_type": "display_data"
    },
    {
     "data": {
      "application/vnd.jupyter.widget-view+json": {
       "model_id": "d7267a3dc43743119ce26feb117cfabc",
       "version_major": 2,
       "version_minor": 0
      },
      "text/plain": [
       "Generating train examples...: 0 examples [00:00, ? examples/s]"
      ]
     },
     "metadata": {},
     "output_type": "display_data"
    },
    {
     "data": {
      "application/vnd.jupyter.widget-view+json": {
       "model_id": "85396876466e4d32805f1a871ba8d6d1",
       "version_major": 2,
       "version_minor": 0
      },
      "text/plain": [
       "Shuffling C:\\Users\\vakas\\tensorflow_datasets\\svhn_cropped\\incomplete.42CX5K_3.1.0\\svhn_cropped-train.tfrecord*…"
      ]
     },
     "metadata": {},
     "output_type": "display_data"
    },
    {
     "data": {
      "application/vnd.jupyter.widget-view+json": {
       "model_id": "9545d122a9eb4e8584c9597b04602d75",
       "version_major": 2,
       "version_minor": 0
      },
      "text/plain": [
       "Generating test examples...: 0 examples [00:00, ? examples/s]"
      ]
     },
     "metadata": {},
     "output_type": "display_data"
    },
    {
     "data": {
      "application/vnd.jupyter.widget-view+json": {
       "model_id": "ed2d2613f7884bb4bf5f023a424571c3",
       "version_major": 2,
       "version_minor": 0
      },
      "text/plain": [
       "Shuffling C:\\Users\\vakas\\tensorflow_datasets\\svhn_cropped\\incomplete.42CX5K_3.1.0\\svhn_cropped-test.tfrecord*.…"
      ]
     },
     "metadata": {},
     "output_type": "display_data"
    },
    {
     "data": {
      "application/vnd.jupyter.widget-view+json": {
       "model_id": "0b2a700b7eb24f12b5c73a16d9aa6745",
       "version_major": 2,
       "version_minor": 0
      },
      "text/plain": [
       "Generating extra examples...: 0 examples [00:00, ? examples/s]"
      ]
     },
     "metadata": {},
     "output_type": "display_data"
    },
    {
     "data": {
      "application/vnd.jupyter.widget-view+json": {
       "model_id": "0f25e29f649a429592d52da5ef80fd07",
       "version_major": 2,
       "version_minor": 0
      },
      "text/plain": [
       "Shuffling C:\\Users\\vakas\\tensorflow_datasets\\svhn_cropped\\incomplete.42CX5K_3.1.0\\svhn_cropped-extra.tfrecord*…"
      ]
     },
     "metadata": {},
     "output_type": "display_data"
    },
    {
     "name": "stdout",
     "output_type": "stream",
     "text": [
      "\u001b[1mDataset svhn_cropped downloaded and prepared to C:\\Users\\vakas\\tensorflow_datasets\\svhn_cropped\\3.1.0. Subsequent calls will reuse this data.\u001b[0m\n"
     ]
    }
   ],
   "source": [
    "import tensorflow_datasets as tfds  # Add this import\n",
    "import matplotlib.pyplot as plt\n",
    "\n",
    "# Load SVHN dataset directly from TensorFlow Datasets\n",
    "(train_data, test_data), ds_info = tfds.load(\n",
    "    'svhn_cropped',\n",
    "    split=['train', 'test'],\n",
    "    shuffle_files=True,\n",
    "    as_supervised=True,\n",
    "    with_info=True\n",
    ")\n",
    "\n",
    "# Preprocessing function\n",
    "def preprocess(image, label):\n",
    "    # Your preprocessing logic here\n",
    "    pass"
   ]
  }
 ],
 "metadata": {
  "kernelspec": {
   "display_name": "Python 3",
   "language": "python",
   "name": "python3"
  },
  "language_info": {
   "codemirror_mode": {
    "name": "ipython",
    "version": 3
   },
   "file_extension": ".py",
   "mimetype": "text/x-python",
   "name": "python",
   "nbconvert_exporter": "python",
   "pygments_lexer": "ipython3",
   "version": "3.11.8"
  }
 },
 "nbformat": 4,
 "nbformat_minor": 5
}
